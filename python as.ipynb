{
 "cells": [
  {
   "cell_type": "markdown",
   "id": "279d568b-ad63-4cc6-b7f1-662cf692f50f",
   "metadata": {
    "jp-MarkdownHeadingCollapsed": true,
    "tags": []
   },
   "source": [
    "### For Loop :-"
   ]
  },
  {
   "cell_type": "code",
   "execution_count": null,
   "id": "bbdcc419-acd3-4b1b-afe3-2a6944cace16",
   "metadata": {},
   "outputs": [],
   "source": [
    "#1. Write a Python program to print numbers from 1 to 10 using a for loop.\n",
    "for i in range(1,11):\n",
    "    print(i)"
   ]
  },
  {
   "cell_type": "code",
   "execution_count": null,
   "id": "40ec3ef4-b095-4702-b21b-c9fada5d9974",
   "metadata": {},
   "outputs": [],
   "source": [
    "#2. Explain the difference between a for loop and a while loop in Python\n",
    "## A for loop and while loop both are used for excuting code block\n",
    "# A for loop are used to iterate over a squence item such list tuple string range etc\n",
    "# A loop will execute  a block of statments for each item in sequence\n",
    "# EXAMPLE\n",
    "for i in range(1,11):\n",
    "    print(i)\n",
    "# A While loop is excute a block of code while a conditione is True The loop will continue to run as long as the condition remain True\n",
    "#EXAMPLE\n",
    "print(\"while loop example\")\n",
    "i = 1\n",
    "while i <=10:\n",
    "    i = i+1\n",
    "    print(i)"
   ]
  },
  {
   "cell_type": "code",
   "execution_count": null,
   "id": "69f3c4dd-0fc0-4c29-bb69-f02119359425",
   "metadata": {},
   "outputs": [],
   "source": [
    "#3. Write a Python program to calculate the sum of all numbers from 1 to 100 using a for loop.\n",
    "def sum_of_1_to_100(n):\n",
    "    count = 0\n",
    "    for i in range(n+1):\n",
    "        count +=i\n",
    "    return count\n",
    "n = 100\n",
    "sum_of_1_to_100(n)"
   ]
  },
  {
   "cell_type": "code",
   "execution_count": null,
   "id": "dbaacc73-befc-4f88-a24a-b77c7b2c5f71",
   "metadata": {},
   "outputs": [],
   "source": [
    "#4. How do you iterate through a list using a for loop in Python?\n",
    "# we can use a simple for loop that iterates over each element of the list and performs some action on it\n",
    "fruit = ['apple','banana','orange','orange','grapes']\n",
    "for i in fruit:\n",
    "    print(i)\n",
    "#WE can also use range function\n",
    "print(\"range function\")\n",
    "fruit = ['apple','banana','orange','orange','grapes']\n",
    "for i in range(len(fruit)):\n",
    "    print(fruit[i])"
   ]
  },
  {
   "cell_type": "code",
   "execution_count": null,
   "id": "f68d1bd2-42ef-4148-a271-9bc8cca2f8ad",
   "metadata": {},
   "outputs": [],
   "source": [
    "#5. Write a Python program to find the product of all elements in a list using a for loop.\n",
    "# Define a list of numbers\n",
    "numbers = [2, 4, 6, 8]\n",
    "\n",
    "product = 1\n",
    "\n",
    "for num in numbers:\n",
    "    product = num * product\n",
    "    print(product)\n"
   ]
  },
  {
   "cell_type": "code",
   "execution_count": null,
   "id": "aa35daf9-9ecc-4ecb-be25-4cf4f2aded56",
   "metadata": {},
   "outputs": [],
   "source": [
    "#6. Create a Python program that prints all even numbers from 1 to 20 using a for loop.\n",
    "for i in range(1,21):\n",
    "    if i%2 == 0:\n",
    "        print(i,end=\",\")"
   ]
  },
  {
   "cell_type": "code",
   "execution_count": null,
   "id": "fe0affd9-e986-44a4-98d0-698e7b8c2ac4",
   "metadata": {},
   "outputs": [],
   "source": [
    "#7. Write a Python program that calculates the factorial of a number using a for loop\n",
    "num = int(input(\"Enter a number: \"))\n",
    "factorial = 1\n",
    "\n",
    "if num < 0:\n",
    "    print(\"Sorry, factorial does not exist for negative numbers\")\n",
    "elif num == 0:\n",
    "    print(\"The factorial of 0 is 1\")\n",
    "else:\n",
    "    for i in range(1, num + 1):\n",
    "        factorial = factorial * i\n",
    "    print(\"The factorial of\", num, \"is\", factorial)"
   ]
  },
  {
   "cell_type": "code",
   "execution_count": null,
   "id": "5e2451d1-1ee5-4487-a34c-4fcb85363d51",
   "metadata": {},
   "outputs": [],
   "source": [
    "#8. How can you iterate through the characters of a string using a for loop in Python?\n",
    "string=input(\"Enter String\")\n",
    "for i in string:\n",
    "    print(i,end=\"-->\")"
   ]
  },
  {
   "cell_type": "code",
   "execution_count": null,
   "id": "9cd9ab30-dd35-4c31-8bc8-ce052dd16b0c",
   "metadata": {},
   "outputs": [],
   "source": [
    "#9. Write a Python program to find the largest number in a list using a for loop.\n",
    "def find_largest (lst):\n",
    "    largest = lst [0]\n",
    "    for num in lst [1:]:\n",
    "        if num > largest:\n",
    "            largest = num\n",
    "    return largest"
   ]
  },
  {
   "cell_type": "code",
   "execution_count": null,
   "id": "34045116-3cbc-445d-b2b9-e4a3c531c3bf",
   "metadata": {},
   "outputs": [],
   "source": [
    "#10. Create a Python program that prints the Fibonacci sequence up to a specified limit using a for loop.\n",
    "def fibonacci(n):\n",
    "    a, b = 0, 1\n",
    "    for i in range(n):\n",
    "        print(a, end=\" \")\n",
    "        a, b = b, a + b\n",
    "\n",
    "if __name__ == \"__main__\":\n",
    "    limit = int(input(\"Enter the limit: \"))\n",
    "    fibonacci(limit)"
   ]
  },
  {
   "cell_type": "code",
   "execution_count": null,
   "id": "1c1a45cb-41ac-4c56-a29a-45de8f4f1cf9",
   "metadata": {},
   "outputs": [],
   "source": [
    "#11. Write a Python program to count the number of vowels in a given string using a for loop\n",
    "string = input(\"enter string\")\n",
    "vowel = \"a,e,i,o,u\"\n",
    "v = 0\n",
    "c = 0\n",
    "for i in string:\n",
    "    if i in vowel:\n",
    "        c+=1\n",
    "    else:\n",
    "        v+=1\n",
    "print(\"v\",c,\"c:\",v)"
   ]
  },
  {
   "cell_type": "code",
   "execution_count": null,
   "id": "c16d71f3-8560-4beb-b361-7835b2593d6a",
   "metadata": {},
   "outputs": [],
   "source": [
    "#12. Create a Python program that generates a multiplication table for a given number using a for\n",
    "#loop.\n",
    "N = int(input(\"Enter A Number\"))\n",
    "for i in range(1,11):\n",
    "    print(N*i)"
   ]
  },
  {
   "cell_type": "code",
   "execution_count": null,
   "id": "45a5513a-1eb0-435d-b01f-ed55f1691261",
   "metadata": {},
   "outputs": [],
   "source": [
    "#13. Write a Python program to reverse a list using a for loop.\n",
    "list = input(\"enter a list\")\n",
    "rev = []\n",
    "for i in range(len(list)-1,-1,-1):\n",
    "    rev.append(list[i])\n",
    "print(rev)\n",
    "#list = 1234567"
   ]
  },
  {
   "cell_type": "code",
   "execution_count": null,
   "id": "d2eabcb8-eae2-449a-bf69-4f5f67409d1f",
   "metadata": {},
   "outputs": [],
   "source": [
    "#14. Write a Python program to find the common elements between two lists using a for loop\n",
    "def Find_commen(list1,list2):\n",
    "    c =[]\n",
    "    for i in list1:\n",
    "        for j in list2:\n",
    "            if i == j:\n",
    "                c.append(i)\n",
    "    return c\n",
    "list1 = [1,2,3,4]\n",
    "list2 = [1,2,5,6]\n",
    "Find_commen(list1,list2)"
   ]
  },
  {
   "cell_type": "code",
   "execution_count": null,
   "id": "f8e7069d-3836-4b0f-a99d-0dafb053be22",
   "metadata": {},
   "outputs": [],
   "source": [
    "#15. Explain how to use a for loop to iterate through the keys and values of a dictionary in Python\n",
    "\n",
    "#To use the for loop to iterate through a dictionary in Python\n",
    "#You can easily do this: for dict_item in dataList: for key in dict_item: print (dict_item [key]) It will iterate over the list, and for each dictionary in the list, it will iterate over the keys and print its values\n",
    "#Loop over the keys in the dictionary by default: for key in dictionary_name: print(key)\n",
    "#Loop over the values in the dictionary by using the itervalues method: for value in dictionary_name.itervalues(): print(value)\n",
    "#Loop over the key-value pairs in the dictionary by using the iteritems method: for key, value in dictionary_name.iteritems(): print(key, value)\n",
    "#Loop over the items in a nested dictionary by using a nested for loop: for dict_item in dictionary_name: for key in dict_item: print(dict_item[key])"
   ]
  },
  {
   "cell_type": "code",
   "execution_count": null,
   "id": "98d44836-a2cc-4c08-8806-0bd66c18c5e4",
   "metadata": {},
   "outputs": [],
   "source": [
    "#16. Write a Python program to find the GCD (Greatest Common Divisor) of two numbers using a forloop.\n",
    "def gcd(a, b):\n",
    "    for i in range(1, min(a, b) + 1):\n",
    "        if a % i == 0 and b % i == 0:\n",
    "            g = i\n",
    "    return g\n",
    "\n",
    "a = int(input(\"Enter the first number: \"))\n",
    "b = int(input(\"Enter the second number: \"))\n",
    "\n",
    "print(\"The GCD of\", a, \"and\", b, \"is:\", gcd(a, b))\n"
   ]
  },
  {
   "cell_type": "code",
   "execution_count": null,
   "id": "8518f028-689b-4724-994e-5544d3d0999a",
   "metadata": {},
   "outputs": [],
   "source": [
    "#17. Create a Python program that checks if a string is a palindrome using a for loop.\n",
    "def isPalindrome(str):\n",
    "    for i in range(0, int(len(str)/2)):\n",
    "        if str[i] != str[len(str)-i-1]:\n",
    "            return False\n",
    "    return True\n",
    " \n",
    "# main function\n",
    "s = input(\"Enter Painlandrome\")\n",
    "ans = isPalindrome(s)\n",
    " \n",
    "if (ans):\n",
    "    print(\"Yes\")\n",
    "else:\n",
    "    print(\"No\")"
   ]
  },
  {
   "cell_type": "code",
   "execution_count": null,
   "id": "082204d8-c68a-4933-8c06-d8eef5004dfe",
   "metadata": {},
   "outputs": [],
   "source": [
    "#18. Write a Python program to remove duplicates from a list using a for loop.\n",
    "def remove_d(list):\n",
    "    real = []\n",
    "    for i  in list:\n",
    "        if i  not  in real:\n",
    "            real.append(i)\n",
    "    return real"
   ]
  },
  {
   "cell_type": "code",
   "execution_count": null,
   "id": "60caccb2-187a-4a84-8f84-694eea21136b",
   "metadata": {},
   "outputs": [],
   "source": [
    "#19. Create a Python program that counts the number of words in a sentence using a for loop\n",
    "def counts_number_words(word):\n",
    "    count = 0\n",
    "    for i in word:\n",
    "            count+=1\n",
    "    return count\n",
    "word = \"haidar349384938\"\n",
    "counts_number_words(word)"
   ]
  },
  {
   "cell_type": "code",
   "execution_count": null,
   "id": "8e8061f5-2d19-41e8-b69d-4a46d71301b1",
   "metadata": {},
   "outputs": [],
   "source": [
    "#20. Write a Python program to find the sum of all odd numbers from 1 to 50 using a for loop.\n",
    "sum = 0\n",
    "for  i in range(1,51,2):\n",
    "    sum+=i\n",
    "print(sum)\n",
    "    "
   ]
  },
  {
   "cell_type": "code",
   "execution_count": null,
   "id": "fd1d6deb-6669-4962-a8ad-df57d3e7bc32",
   "metadata": {},
   "outputs": [],
   "source": [
    "#21. Write a Python program that checks if a given year is a leap year using a for loop.\n",
    "def is_leap_year(year):\n",
    "    if year % 4 == 0:\n",
    "        return True\n",
    "    return False\n",
    "r = 2028\n",
    "is_leap_year(r)"
   ]
  },
  {
   "cell_type": "code",
   "execution_count": null,
   "id": "8f1f6829-7e97-4f3c-96f5-71fad2cd733a",
   "metadata": {},
   "outputs": [],
   "source": [
    "#22. Create a Python program that calculates the square root of a number using a for loop.\n",
    "def square_root(number):\n",
    "    guess = number/2\n",
    "    prev = None\n",
    "    for _ in range(1000):\n",
    "        next_guess = (guess+number/guess)/2\n",
    "        if abs(guess-next_guess)< 0.000001:\n",
    "            break\n",
    "        prev = guess\n",
    "        guess = next_guess\n",
    "    return guess\n",
    "number = 25\n",
    "print(f\"The squeroot of {number} is approximatliy {square_root(number)} \")"
   ]
  },
  {
   "cell_type": "code",
   "execution_count": null,
   "id": "62be7e45-5237-43eb-a585-2a1aaf736255",
   "metadata": {},
   "outputs": [],
   "source": [
    "#23. Write a Python program to find the LCM (Least Common Multiple) of two numbers using a forloop.\n",
    "def gcd(a, b):\n",
    "    for i in range(1, min(a, b) + 1):\n",
    "        if a % i == 0 and b % i == 0:\n",
    "            g = i\n",
    "    return g\n",
    "def LCM(a,b):\n",
    "    if a==0 and  b == 0:\n",
    "        return 0\n",
    "    lcm = a%b // gcd(a,b)\n",
    "    return lcm\n",
    "    \n",
    "LCM(4,6)"
   ]
  },
  {
   "cell_type": "markdown",
   "id": "787fdf5c-d908-4df5-a212-9f30a9fa3ca6",
   "metadata": {
    "jp-MarkdownHeadingCollapsed": true,
    "tags": []
   },
   "source": [
    "### if-else"
   ]
  },
  {
   "cell_type": "code",
   "execution_count": null,
   "id": "491e0030-51c4-46cb-a225-bd383917f9ed",
   "metadata": {},
   "outputs": [],
   "source": [
    "#1. Write a Python program to check if a number is positive, negative, or zero using an if-else statement.\n",
    "def is_N_P_0(num):\n",
    "    if num<0:\n",
    "        print(\"Negative\")\n",
    "    elif num>0:\n",
    "        print(\"Positive\")\n",
    "    else:\n",
    "        print(\"ZERO!\")\n",
    "is_N_P_0(0)"
   ]
  },
  {
   "cell_type": "code",
   "execution_count": null,
   "id": "57d76bdc-8745-4481-a348-0a3b78c36cf6",
   "metadata": {
    "tags": []
   },
   "outputs": [],
   "source": [
    "#2. Create a Python program that checks if a given number is even or odd using an if-else statement.\n",
    "n = int(input(\"Enter A number\"))\n",
    "if n % 2==0:\n",
    "    print(\"odd\")\n",
    "else:\n",
    "    print(\"Even\")"
   ]
  },
  {
   "cell_type": "code",
   "execution_count": null,
   "id": "26948ab5-0dff-4db5-a6e6-aa5bf2b42617",
   "metadata": {},
   "outputs": [],
   "source": [
    "#3. How can you use nested if-else statements in Python, and provide an example?\n",
    "#when you have if statment block and in if block you have one more if block cal as nested if-else \n",
    "#statment you also use else block  in inner if block \n",
    "#Example\n",
    "n = 25\n",
    "if n>0:\n",
    "    print(\"n is greterthen Zero in if block\")\n",
    "    if n>12:\n",
    "        print(\"n is also greatthen 12 now we are in inner if block\")"
   ]
  },
  {
   "cell_type": "code",
   "execution_count": null,
   "id": "d52a0414-80d2-4b3c-a55a-069458167a36",
   "metadata": {},
   "outputs": [],
   "source": [
    "#4. Write a Python program to determine the largest of three numbers using if-else\n",
    "def largest_three_numberslenb,c):\n",
    "    if a>b:\n",
    "        if a>c:\n",
    "            return(a)\n",
    "    if b>a:\n",
    "        if b>c:\n",
    "            return(b)\n",
    "    if c>b and c>a:\n",
    "        return c\n",
    "largest_three_numbers(7,12,9)"
   ]
  },
  {
   "cell_type": "code",
   "execution_count": null,
   "id": "993d3bd0-efd5-42ca-a845-ec24ec36e601",
   "metadata": {},
   "outputs": [],
   "source": [
    "#5. Write a Python program that calculates the absolute value of a number using if-else\n",
    "def Find_absolute(n):\n",
    "    if n>= 0:\n",
    "        return n\n",
    "    return -n\n",
    "Find_absolute(-5)"
   ]
  },
  {
   "cell_type": "code",
   "execution_count": null,
   "id": "5ec1d667-4047-43d8-b553-0b017a051f79",
   "metadata": {},
   "outputs": [],
   "source": [
    "#6. Create a Python program that checks if a given character is a vowel or consonant using if-else\n",
    "def isV_C(char):\n",
    "    vowel = [\"a\",\"e\",\"i\",\"o\",\"u\"]\n",
    "    if char in vowel:\n",
    "        return \"It's Vowel\"\n",
    "    else:\n",
    "        return \"Consonant \""
   ]
  },
  {
   "cell_type": "code",
   "execution_count": null,
   "id": "f8409e8d-620b-40ba-b330-30b1a81ecb2f",
   "metadata": {},
   "outputs": [],
   "source": [
    "#7. Write a Python program to determine if a user is eligible to vote based on their age using if-else.\n",
    "age = int(input(\"Enetr a age\"))\n",
    "if age<18:\n",
    "    print(\"Not eligible for vote\")\n",
    "elif age>=18:\n",
    "    print(\"Yes You are Voter!\")\n",
    "else:\n",
    "    print(\"You are kidding with me\")\n"
   ]
  },
  {
   "cell_type": "code",
   "execution_count": null,
   "id": "b9c61767-c0ad-4fc3-b2c3-f74eb43c26a4",
   "metadata": {},
   "outputs": [],
   "source": [
    "#8. Create a Python program that calculates the discount amount based on the purchase amount using if-else.\n",
    "def count_discount(purchase_price):\n",
    "    if purchase_price<1000:\n",
    "        return \"your discount\",purchase_price*0/100\n",
    "    elif purchase_price<5000:\n",
    "        return \"your discount\",purchase_price*15/100\n",
    "    elif purchase_price<10000:\n",
    "        return \"your discount\",purchase_price*30/100\n",
    "    else:\n",
    "        return \"your discount\",purchase_price*40/100\n",
    "count_discount(54764)"
   ]
  },
  {
   "cell_type": "code",
   "execution_count": null,
   "id": "4c3d5f96-2507-4ab0-8522-b2d6fb493a53",
   "metadata": {},
   "outputs": [],
   "source": [
    "#9. Write a Python program to check if a number is within a specified range using if-else.\n",
    "def check_range(num, start, end):\n",
    "    if start <= num <= end:\n",
    "        print(f\"{num} is within the range {start} to {end}\")\n",
    "    else:\n",
    "        print(f\"{num} is outside the range {start} to {end}\")\n",
    "\n",
    "start_range = 10\n",
    "end_range = 20\n",
    "num = int(input(\"Enter a number: \"))\n",
    "check_range(num, start_range, end_range)"
   ]
  },
  {
   "cell_type": "code",
   "execution_count": null,
   "id": "f5ca03a4-fe84-4e60-a782-f9d74f39c9ba",
   "metadata": {},
   "outputs": [],
   "source": [
    "#10. Create a Python program that determines the grade of a student based on their score using if-else.\n",
    "def grade_daterminer(marks):\n",
    "    if marks<=33:\n",
    "        print(\"sory you are Fail\",\"F\")\n",
    "    elif marks<=40:\n",
    "        print(\"Your Grade is D\")\n",
    "    elif marks<=60:\n",
    "        print(\"Your grade is C\")\n",
    "    elif marks<=60:\n",
    "        print(\"Your Grade is B\")\n",
    "    elif marks<=100:\n",
    "        print(\"Your Grade Is A\")\n",
    "    else:\n",
    "        print(\"Don't kidding\")\n",
    "grade_daterminer(83922)"
   ]
  },
  {
   "cell_type": "code",
   "execution_count": null,
   "id": "b4dbbaf1-09ef-48ef-a0d4-8aa50b690953",
   "metadata": {},
   "outputs": [],
   "source": [
    "#11. Write a Python program to check if a string is empty or not using if-else\n",
    "def is_Empty(string):\n",
    "    if string == \"\":\n",
    "        return True\n",
    "    return False"
   ]
  },
  {
   "cell_type": "code",
   "execution_count": null,
   "id": "a64826b7-1cb5-42ca-a433-5b738f434390",
   "metadata": {},
   "outputs": [],
   "source": [
    "## 12. Create a Python program that identifies the type of a triangle (e.g., equilateral, isosceles, or scalene) based on input values using if-else\\\n",
    "a = int(input(\"Enter first side\"))\n",
    "b = int(input(\"Enter second side\"))\n",
    "c = int(input(\"Enter Third side\"))\n",
    "if a == b == c:\n",
    "    print(\"equilateral\")\n",
    "elif a == b or b ==c or c==a:\n",
    "    print(\"isosceles\")\n",
    "else:\n",
    "    print(\"scalene\")"
   ]
  },
  {
   "cell_type": "code",
   "execution_count": null,
   "id": "aaad1ba7-0a3b-43a4-b351-dc2900b3eb27",
   "metadata": {},
   "outputs": [],
   "source": [
    "##13. Write a Python program to determine the day of the week based on a user-provided number using if-else\n",
    "day = int(input(\"Enter a number from 1 to 7: \"))\n",
    "if day == 1 \n",
    "    print(day, \"is Sunday\") \n",
    "elif day == 2:\n",
    "    print(day, \"is Monday\")\n",
    "elif day == 3:\n",
    "    print(day, \"is Tuesday\")\n",
    "elif day == 4: \n",
    "    print(day, \"is Wednesday\")\n",
    "elif day == 5: \n",
    "    print(day, \"is Thursday\")\n",
    "elif day == 6: \n",
    "    print(day, \"is Friday\")\n",
    "elif day == 7:\n",
    "    print(day, \"is ... Saturday\")\n",
    "else:\n",
    "    print(day,\"god did't create\")"
   ]
  },
  {
   "cell_type": "code",
   "execution_count": null,
   "id": "084108c5-ebf1-4726-a1da-a4674ce52ccc",
   "metadata": {},
   "outputs": [],
   "source": [
    "#14. Create a Python program that checks if a given year is a leap year using both if-else and a function\n",
    "year = int(input(\"Ente a year\"))\n",
    "if year % 4 == 0:\n",
    "    print(True)\n",
    "else:\n",
    "    print(False)"
   ]
  },
  {
   "cell_type": "code",
   "execution_count": null,
   "id": "5fcee037-ac52-4b35-baf6-a1d54a089cb6",
   "metadata": {
    "scrolled": true,
    "tags": []
   },
   "outputs": [],
   "source": [
    "#15. How do you use the \"assert\" statement in Python to add debugging checks within if-else blocks?\n",
    "x = int(input(\"Enetr num\"))\n",
    "if x == 10:\n",
    "    print(\"X is Equal to 10\")\n",
    "else:\n",
    "    assert x==10,\"X is Not Equal TO 10\""
   ]
  },
  {
   "cell_type": "code",
   "execution_count": null,
   "id": "4454b9f9-41ab-4b50-a814-a4cca1bde9a6",
   "metadata": {},
   "outputs": [],
   "source": [
    "#16. Create a Python program that determines the eligibility of a person for a senior citizen discount based on age using if-else.\n",
    "age = int(input(\"Enter age\"))\n",
    "if age>+60:\n",
    "    print(\"person is a senior citizen \")\n",
    "else:\n",
    "    print(\"person is not eligiable senior citizen\")"
   ]
  },
  {
   "cell_type": "code",
   "execution_count": null,
   "id": "fdc46f12-05e1-4b29-8473-b6df66e2e21a",
   "metadata": {},
   "outputs": [],
   "source": [
    "#17. Write a Python program to categorize a given character as uppercase, lowercase, or neither using if-else.\n",
    "def check_case(Letter):\n",
    "    if Letter == Letter.upper():\n",
    "        print(Letter,\"is Uppercase\")\n",
    "    elif Letter == Letter.lower():\n",
    "        print(Letter,\"Is lowercase\")\n",
    "    else:\n",
    "        return \"Nethier Lower Nor Upper\"\n",
    "check_case(\"F\")\n",
    "#17. Write a Python program to categorize a given character as uppercase, lowercase, or neither using if-else.\n",
    "def check_case(Letter):\n",
    "    if (Letter >=\"A\" and Letter<=\"Z\"):\n",
    "        print(Letter,\"is Uppercase\")\n",
    "    elif (Letter>= \"a\" and Letter<=\"z\"):\n",
    "        print(Letter,\"Is lowercase\")\n",
    "    else:\n",
    "        return \"Nethier Lower Nor Upper\"\n",
    "check_case(\"F\")"
   ]
  },
  {
   "cell_type": "code",
   "execution_count": null,
   "id": "028a0b0e-2c30-41ac-bf95-e5c7868a0484",
   "metadata": {},
   "outputs": [],
   "source": [
    "#18. Write a Python program to determine the roots of a quadratic equation using if-else\n",
    "def quadratic_equation(a=0,b=0,c=0):\n",
    "    d= (b**2 - 4*a*c)\n",
    "    sqt = abs(d)\n",
    "    if d>0:\n",
    "        print(\"The  Root Number is Real\")\n",
    "        print((-b+sqt)/(2*a))\n",
    "        print((-b-sqt)/(2*a))\n",
    "    elif d == 0 :\n",
    "        print (\"Real and Same Root\")\n",
    "    else:\n",
    "        print(\"The Root are Complex\")\n",
    "        print(-b/2*a,\"+i\",sqt)\n",
    "        print(-b/2*a,\"-i\",sqt)\n",
    "        \n",
    "quadratic_equation(2,1,1)\n",
    "#18. Write a Python program to determine the roots of a quadratic equation using if-else\n",
    "import math\n",
    "from math import sqrt\n",
    "def quadratic_equation(a=0,b=0,c=0):\n",
    "    d= (b**2 - 4*a*c)\n",
    "    sqrt_val = math.sqrt(abs(d)) \n",
    "    if d>0:\n",
    "        print(\"The  Root Number is Real\")\n",
    "        print((-b+sqrt_val)/(2*a))\n",
    "        print((-b-sqrt_val)/(2*a))\n",
    "    elif d == 0 :\n",
    "        print (\"Real and Same Root\")\n",
    "    else:\n",
    "        print(\"The Root are Complex\")\n",
    "        print(-b/2*a,\"+i\",sqrt_val)\n",
    "        print(-b/2*a,\"-i\",sqrt_val)\n",
    "        \n",
    "quadratic_equation(2,1,1)"
   ]
  },
  {
   "cell_type": "code",
   "execution_count": null,
   "id": "bb7e68ec-cbc6-4b1b-a01d-8a232e1a00f4",
   "metadata": {},
   "outputs": [],
   "source": [
    "#19. Create a Python program that checks if a given year is a century year or not using if-else\n",
    "def centuryFromYear(year):\n",
    "    return (year - 1) // 100 + 1 \n",
    "print(centuryFromYear(2100))"
   ]
  },
  {
   "cell_type": "code",
   "execution_count": null,
   "id": "833fbdfd-2de2-4511-9a18-3dd32d38a64f",
   "metadata": {},
   "outputs": [],
   "source": [
    "#20. Write a Python program to determine if a given number is a perfect square using if-else\n",
    "def is_pefet(n):\n",
    "    i =1\n",
    "    while i*i<=n:\n",
    "        if i*i == n:\n",
    "            return True\n",
    "        else:\n",
    "            i+=1\n",
    "    return False\n",
    "is_pefet(3)      "
   ]
  },
  {
   "cell_type": "code",
   "execution_count": null,
   "id": "3b339452-fc22-48fe-8af8-9aa00ce4ef73",
   "metadata": {},
   "outputs": [],
   "source": [
    "#21. Explain the purpose of the \"continue\" and \"break\" statements within if-else loops\n",
    "#AS:-The break and continue statements are used to alter the flow of control within loops\n",
    "for i in range(10):\n",
    "    if i%2==0:\n",
    "        continue\n",
    "    print(i)\n",
    "for i in range(10):\n",
    "    if i == 5:\n",
    "        break\n",
    "    print(i)"
   ]
  },
  {
   "cell_type": "code",
   "execution_count": null,
   "id": "f21f1b73-569c-42fc-86d9-3e1d0f8960d6",
   "metadata": {},
   "outputs": [],
   "source": [
    "#22. Create a Python program that calculates the BMI (Body Mass Index) of a person based on their weight and height using if-else.\n",
    "try:\n",
    "    wt = float(input(\"Enter your Weight\"))\n",
    "    ht = float(input(\"Enter your hight\"))\n",
    "    res = wt/ht*ht\n",
    "    if res<(18.5):\n",
    "        print(\"Unde Weight\")\n",
    "    elif res>=18.5:\n",
    "        print(\"Normal\")\n",
    "    elif res>=25 and res<30:\n",
    "        print(\"OverWeight\")\n",
    "    else:\n",
    "        print(\"Obesity\")\n",
    "except TypeError as t:\n",
    "    print(t)\n",
    "except ValueError as v:\n",
    "    print(\"This is a value error you make\")"
   ]
  },
  {
   "cell_type": "code",
   "execution_count": null,
   "id": "0a0d3ad6-5c4c-44f9-8791-5fee26d2c606",
   "metadata": {},
   "outputs": [],
   "source": [
    "#23. How can you use the \"filter()\" function with if-else statements to filter elements from a list?\n",
    "def is_addult(x):\n",
    "    if x<18:\n",
    "        return False\n",
    "    else:\n",
    "        return True\n",
    "    \n",
    "age = [12,14,17,18,19,20,25]  \n",
    "adults = filter(is_addult,age)\n",
    "for i in adults:\n",
    "    print(i)"
   ]
  },
  {
   "cell_type": "code",
   "execution_count": null,
   "id": "65483c0e-564a-4944-9c8e-eb92c6886bce",
   "metadata": {},
   "outputs": [],
   "source": [
    "#24. Write a Python program to determine if a given number is prime or not using if-else.\n",
    "def is_prime(num):\n",
    "    if num<=1:\n",
    "        return False\n",
    "    else:\n",
    "        for i in range(2,int(num**0.5)+1):\n",
    "            if num % i == 0:\n",
    "                return False\n",
    "            return True\n",
    "num = int(input(\"Enter Number\"))\n",
    "if is_prime(num) == True:\n",
    "    print(\"Number is Prime\")\n",
    "else:\n",
    "    print(\"Not a Prime Number\")"
   ]
  },
  {
   "cell_type": "markdown",
   "id": "f7c4faea-44d1-4b1d-af3c-3ceb3ae4bf75",
   "metadata": {
    "jp-MarkdownHeadingCollapsed": true,
    "tags": []
   },
   "source": [
    "### Map :-"
   ]
  },
  {
   "cell_type": "code",
   "execution_count": null,
   "id": "e5e66c87-d92a-44d2-8a34-b4c82f3df3f3",
   "metadata": {},
   "outputs": [],
   "source": [
    "#1. Explain the purpose of the `map()` function in Python and provide an example of how it can be\n",
    "#   used to apply a function to each element of an iterable.\n",
    "# AS:- The map() function executes a specified function for each item in an iterable. The item is sent to the function as a parameter\n",
    "def lenght(string):\n",
    "    co = 0\n",
    "    if string == \"\":\n",
    "        return 0\n",
    "    for i in string:\n",
    "        co+=1\n",
    "    return co\n",
    "x = map(lenght,(\"orange\",\"apple\",\"peach\"))\n",
    "for i in x :\n",
    "    print(i,end=\"-\")"
   ]
  },
  {
   "cell_type": "code",
   "execution_count": null,
   "id": "2f1dbd56-3c0c-45e2-a882-131360a3b596",
   "metadata": {},
   "outputs": [],
   "source": [
    "#2. Write a Python program that uses the `map()` function to square each element of a list of numbers.\n",
    "def sqare(x):\n",
    "    return x**2\n",
    "v = map(sqare,[3,4,5,6,7,8])\n",
    "print(list(v))"
   ]
  },
  {
   "cell_type": "code",
   "execution_count": null,
   "id": "ab9f1510-12ce-47c3-9a89-f3be8d884e11",
   "metadata": {},
   "outputs": [],
   "source": [
    "#3. How does the `map()` function differ from a list comprehension in Python, and when would you\n",
    "#   choose one over the other\n",
    "#AS:- The map() function and the list comprehension are both ways to apply a function to each element of an iterable and return a new iterable. However, there are some differences between them:\n",
    "# 1 . The map() function returns a map object, which is a lazy iterator that only computes the values when needed. The list comprehension returns a list object, which is eager and stores all the values in memory.\n",
    "# 2 . Use the map() function when you already have a function object that you want to apply to an iterable, and you don’t need to store the results in memory. This can be more efficient and concise than using a list comprehension with a lambda expression.\n",
    "# 3 . Use the list comprehension when you want to create a list from an iterable, and you need to use complex expressions or filtering. This can be more readable and flexible than using the map() function with a helper function or a nested loop.\n"
   ]
  },
  {
   "cell_type": "code",
   "execution_count": null,
   "id": "f2b58589-efe7-482e-91e3-609a8ce0a5ba",
   "metadata": {},
   "outputs": [],
   "source": [
    "#4. Create a Python program that uses the `map()` function to convert a list of names to uppercase.\n",
    "def uppper_converter(list_of_names):\n",
    "    upper_case_letter = \"\"\n",
    "    for i in list_of_names:\n",
    "        if i>=\"a\" and i<=\"z\":\n",
    "            upper_case_letter+= chr(ord(i)-32)\n",
    "        else:\n",
    "            upper_case_letter+=i\n",
    "    return upper_case_letter\n",
    "list_of_names=[\"name\",\"Alice\",\"BoB\",\"RED\"]\n",
    "x = map(uppper_converter,list_of_names)\n",
    "print(list(x))"
   ]
  },
  {
   "cell_type": "code",
   "execution_count": null,
   "id": "a7d36094-99df-4389-8d4f-fca59a4f6ea6",
   "metadata": {},
   "outputs": [],
   "source": [
    "#5. Write a Python program that uses the `map()` function to calculate the length of each word in a\n",
    "#   list of strings.\n",
    "def lenght(string):\n",
    "    co = 0\n",
    "    if string == \"\":\n",
    "        return 0\n",
    "    for i in string:\n",
    "        co+=1\n",
    "    return co\n",
    "x = map(lenght,[\"orange\",\"apple\",\"peach\"])\n",
    "print(list(x))"
   ]
  },
  {
   "cell_type": "code",
   "execution_count": null,
   "id": "eb2cb611-17bb-4aca-84fa-05bc58cbf07f",
   "metadata": {},
   "outputs": [],
   "source": [
    "#6. How can you use the `map()` function to apply a custom function to elements of multiple lists simultaneously in Python\n",
    "# if we have multiple list and we want to do some opration in it threw map we use like this \n",
    "# map(function, iterable1, iterable2, ...)\n",
    "#EXAMPLE:-\n",
    "def sumy(a,b):\n",
    "    return a+b\n",
    "lis1 = [1,2,3,5]\n",
    "lis2 = [6,7,8,7]\n",
    "x = map(sumy,lis1,lis2)\n",
    "print(list(x))   "
   ]
  },
  {
   "cell_type": "code",
   "execution_count": null,
   "id": "a7d70858-b290-4c1e-af1a-88f0db122565",
   "metadata": {},
   "outputs": [],
   "source": [
    "#7. Create a Python program that uses `map()` to convert a list of temperatures from Celsius to Fahrenheit\n",
    "def C_TO_F(celsiues):\n",
    "    f = 9*celsiues/5+32\n",
    "    return f\n",
    "x = map(C_TO_F,[43,34,56,90])\n",
    "print(list(x))"
   ]
  },
  {
   "cell_type": "code",
   "execution_count": null,
   "id": "5470838c-255d-4bfd-a48a-1b8731091650",
   "metadata": {},
   "outputs": [],
   "source": [
    "#8. Write a Python program that uses the `map()` function to round each element of a list of floating-point numbers to the nearest integer.\n",
    "def my_round(x):\n",
    "    if x>0:\n",
    "        return int(x+0.5)\n",
    "    else:\n",
    "        return int(x-0.5)\n",
    "lis = [2.4,4.5,7.8,9.8,2.4]\n",
    "x = map(my_round,lis)\n",
    "print(list(x))"
   ]
  },
  {
   "cell_type": "markdown",
   "id": "0058256a-5dd5-4aee-8631-c5eee8d95c4e",
   "metadata": {
    "tags": []
   },
   "source": [
    "### Reduce :-\n"
   ]
  },
  {
   "cell_type": "code",
   "execution_count": null,
   "id": "79eb396f-2094-4020-9c24-fa220b2c079a",
   "metadata": {},
   "outputs": [],
   "source": [
    "#1. What is the `reduce()` function in Python, and what module should you import to use it? Provide\n",
    "#   an example of its basic usage\n",
    "#AS:- The reduce() function is a powerful tool in Python that operates on a list (or any iterable)\n",
    "#applies a function to its elements, and 'reduces' them to a single output.\n",
    "#It's part of the functools module, which needs to be imported before you can use reduce() \n",
    "from functools import  reduce\n",
    "def add(x,y):\n",
    "    return x+y\n",
    "re = reduce(add,[1,2,3,4,6,7,8])\n",
    "print(re)"
   ]
  },
  {
   "cell_type": "code",
   "execution_count": null,
   "id": "af5179c4-c3cf-46ef-beab-afff43644174",
   "metadata": {},
   "outputs": [],
   "source": [
    "#2. Write a Python program that uses the `reduce()` function to find the product of all elements in a list.\n",
    "num = [1,2,3,4,5]\n",
    "x = reduce((lambda x,y:x*y),num)\n",
    "print(x)"
   ]
  },
  {
   "cell_type": "code",
   "execution_count": null,
   "id": "31d8cf51-7b69-4759-8b55-85c596a26e9f",
   "metadata": {},
   "outputs": [],
   "source": [
    "#3. Create a Python program that uses `reduce()` to find the maximum element in a list of numbers.\n",
    "lis = [1,2,3,4,5,0]\n",
    "x = reduce(lambda x,y:x if x>y else y,lis)\n",
    "print(x)"
   ]
  },
  {
   "cell_type": "code",
   "execution_count": null,
   "id": "4189eada-d406-4716-a065-85f17dfd2e87",
   "metadata": {},
   "outputs": [],
   "source": [
    "#4. How can you use the `reduce()` function to concatenate a list of strings into a single string?\n",
    "lis= [\"Hello\",\"World\",\"From\",\"Python\"]\n",
    "x = reduce(lambda x,y:x+\" \"+y,lis)\n",
    "print(x)"
   ]
  },
  {
   "cell_type": "code",
   "execution_count": null,
   "id": "5c905e75-b53c-4284-9a32-5a784b436a4c",
   "metadata": {},
   "outputs": [],
   "source": [
    "#5. Write a Python program that calculates the factorial of a number using the `reduce()` function.\n",
    "def fact(n):\n",
    "    return reduce(lambda x,y:x*y,range(1,n+1))\n",
    "n = 5\n",
    "facto = fact(n)\n",
    "print(\"The factorial of\",n,\"is\",facto)"
   ]
  },
  {
   "cell_type": "code",
   "execution_count": null,
   "id": "4a3e8720-0887-4266-8ab6-a04f29845233",
   "metadata": {},
   "outputs": [],
   "source": [
    "#6. Create a Python program that uses `reduce()` to find the GCD (Greatest Common Divisor) of a list of number\n",
    "def gcd(x,y):\n",
    "    while y:\n",
    "        x,y = y,x % y\n",
    "    return x\n",
    "def gcd_num(number):\n",
    "    return reduce(lambda x,y:gcd(x,y),number)\n",
    "nums = [24, 30, 36]\n",
    "print(\"GCD of\", ','.join(str(e) for e in nums))\n",
    "print(gcd_num(nums))\n"
   ]
  },
  {
   "cell_type": "code",
   "execution_count": null,
   "id": "8f5fcefb-18e1-4085-9a8b-a8fe26e5ef51",
   "metadata": {},
   "outputs": [],
   "source": [
    "#7. Write a Python program that uses the `reduce()` function to find the sum of the digits of a given number.\\\n",
    "try:\n",
    "    def summ(num):\n",
    "        return reduce(lambda x,y:x+y,[int(digit) for digit in str(num)])\n",
    "    num = int(input(\"Enter A Number\"))\n",
    "    print(\"The sum of\",123,\"is \",summ(num))\n",
    "except Exception as e:\n",
    "    print(e)"
   ]
  },
  {
   "cell_type": "markdown",
   "id": "94118aaa-1dec-4267-9a18-2fef42579213",
   "metadata": {
    "jp-MarkdownHeadingCollapsed": true,
    "tags": []
   },
   "source": [
    "### Filter :-"
   ]
  },
  {
   "cell_type": "code",
   "execution_count": null,
   "id": "e6db21fe-fde4-44dc-bd88-3fa98aa1e5a4",
   "metadata": {},
   "outputs": [],
   "source": [
    "#1. Explain the purpose of the `filter()` function in Python and provide an example of how it can be\n",
    "#   used to filter elements from an iterable.\n",
    "#AS:- `filter()` function furnishes an iterator that holds the elements that passed through the filter.\n",
    "def is_Even(x):\n",
    "    if x%2==0:\n",
    "        return True\n",
    "    return False\n",
    "lis = [2,3,4,5,6,7,7,8,9]\n",
    "x = filter(is_Even,lis)\n",
    "for i in x:\n",
    "    print(i,end=\",\")"
   ]
  },
  {
   "cell_type": "code",
   "execution_count": null,
   "id": "0864839c-814c-44ee-a576-192a846f9461",
   "metadata": {},
   "outputs": [],
   "source": [
    "#2. Write a Python program that uses the `filter()` function to select even numbers from a list of integers.\n",
    "def is_Even(x):\n",
    "    if x%2==0:\n",
    "        return True\n",
    "    return False\n",
    "lis = [2,3,4,5,6,7,7,8,9]\n",
    "x = filter(is_Even,lis)\n",
    "for i in x:\n",
    "    print(i,end=\",\")"
   ]
  },
  {
   "cell_type": "code",
   "execution_count": null,
   "id": "4a84354a-24f5-4b29-b1da-116a92049dad",
   "metadata": {},
   "outputs": [],
   "source": [
    "#3. Create a Python program that uses the `filter()` function to select names that start with a specific letter from a list of strings.\n",
    "def start_with(name,letter):\n",
    "    return name[0] == letter\n",
    "def selected_name(names,letter):\n",
    "    return list(filter(lambda x: start_with(x,letter),names))\n",
    "\n",
    "d  = [\"Alice\", \"Aob\", \"Carol\", \"Dave\", \"Eve\"]\n",
    "s = list(selected_name(d,\"A\"))\n",
    "print(s)\n",
    "                "
   ]
  },
  {
   "cell_type": "code",
   "execution_count": null,
   "id": "f8ea93e5-3c1c-42ae-b8f0-0ce46714ac2e",
   "metadata": {},
   "outputs": [],
   "source": [
    "#4. Write a Python program that uses the `filter()` function to select prime numbers from a list of integers.\n",
    "def is_prime_y(num):\n",
    "    if num<=1:\n",
    "        return False\n",
    "    else:\n",
    "        for i in range(2,int(num**0.5)+1):\n",
    "            if num % i == 0:\n",
    "                return False\n",
    "            return True\n",
    "lis =[2,3,4,5,6,7,8,9,1,2,4519,17,19]\n",
    "s = list(filter(is_Prime_y,lis))\n",
    "print(s)"
   ]
  },
  {
   "cell_type": "code",
   "execution_count": null,
   "id": "2ff131fd-8fcf-45b3-acbc-c34ec1901355",
   "metadata": {},
   "outputs": [],
   "source": [
    "#5. How can you use the `filter()` function to remove None values from a list in Python?\n",
    "def remove(word):\n",
    "        if word == None:\n",
    "            return False\n",
    "        return True\n",
    "lis = [None, None, None, None, None,5,7]\n",
    "y = (filter(remove,lis))\n",
    "for i in  y:\n",
    "    print(i,end=\",\")\n",
    "#Anothe Way\n",
    "my_list = [1, 2, None, 4, None, 5]\n",
    "filtered_list = list(filter(bool, my_list))\n",
    "print(filtered_list)"
   ]
  },
  {
   "cell_type": "code",
   "execution_count": null,
   "id": "898a7a95-8e6c-4450-a6d0-58cff59191f3",
   "metadata": {},
   "outputs": [],
   "source": [
    "#6. Create a Python program that uses `filter()` to select words longer than a certain length from a list of strings\n",
    "try:\n",
    "    def certan_longer(word,l):\n",
    "        c = 0\n",
    "        for _ in word:\n",
    "            c+=1\n",
    "        if c<l:\n",
    "            return False\n",
    "        return True\n",
    "    st = [\"Alice\", \"Aob\", \"Carol\", \"Dave\", \"Eve\"]\n",
    "    s = list(filter(lambda x: certan_longer(x,4),st))\n",
    "    print(s)\n",
    "except Exception as e:\n",
    "    print(e)"
   ]
  },
  {
   "cell_type": "code",
   "execution_count": null,
   "id": "57ea0303-8624-4c7f-a860-d8e550917613",
   "metadata": {},
   "outputs": [],
   "source": [
    "#7. Write a Python program that uses the `filter()` function to select elements greater than a specified threshold from a list of values.\n",
    "li= [2,3,4,5,6,712,43,5]\n",
    "def gre(n,g):\n",
    "    if n>=g:\n",
    "        return True\n",
    "    return False\n",
    "d = list(filter(lambda x: gre(x,8),li))\n",
    "print(d)"
   ]
  },
  {
   "cell_type": "markdown",
   "id": "e65a1ffd-a995-434d-9d3a-96858ea1252b",
   "metadata": {
    "jp-MarkdownHeadingCollapsed": true,
    "tags": []
   },
   "source": [
    "## Recursion:-"
   ]
  },
  {
   "cell_type": "code",
   "execution_count": null,
   "id": "57a5c0a2-60b2-4ed3-8015-0c890ae503d2",
   "metadata": {},
   "outputs": [],
   "source": [
    "#1. Explain the concept of recursion in Python. How does it different from iteration?\n",
    "#AS:-\n",
    "# In The pyhthon the concept  of recursion is when function call itsel it's call recursion  it is veru usful in very comlaxe logic\n",
    "#it need base case case condition and a little bit logic then you do recursion it'fast comparesion iteraion because in iteration\n",
    "#it take element and do some opration on it\n",
    "\n",
    "#The main difference between Recursion and Iteration is that recursion involves a function calling itself while iteration involves a loop repeating instructions until a certain condition is met.\n"
   ]
  },
  {
   "cell_type": "code",
   "execution_count": null,
   "id": "53b57cba-cedf-4a96-899b-33ddedcbb604",
   "metadata": {},
   "outputs": [],
   "source": [
    "#2. Write a Python program to calculate the factorial of a number using recursio\n",
    "def factorial(n):\n",
    "    if n==0:\n",
    "        return 1\n",
    "\n",
    "    else:\n",
    "        return n*factorial(n-1) \n",
    "factorial(51)     "
   ]
  },
  {
   "cell_type": "code",
   "execution_count": null,
   "id": "704a0162-8f06-46d9-ba11-0d4535ad7c6a",
   "metadata": {},
   "outputs": [],
   "source": [
    "#3. Create a recursive Python function to find the nth Fibonacci number.\n",
    "def Fibonacci(n):\n",
    "    if n<=0:\n",
    "        return \n",
    "    elif n==1:\n",
    "        return 0\n",
    "    elif n==2:\n",
    "        return 1\n",
    "    else:\n",
    "        return Fibonacci(n-1)+Fibonacci(n-2)\n",
    "print(Fibonacci(13))"
   ]
  },
  {
   "cell_type": "code",
   "execution_count": null,
   "id": "e0005582-3b07-474d-b190-8028b27b2f90",
   "metadata": {},
   "outputs": [],
   "source": [
    "#4. Write a recursive Python function to calculate the sum of all elements in a lis\n",
    "def sum_of_ele_lis(lis):\n",
    "    if not lis:\n",
    "        return 0\n",
    "    return lis[0]+sum_of_ele_lis(lis[1:])\n",
    "lis = [2,22,222,2222]\n",
    "sum_of_ele_lis(lis)"
   ]
  },
  {
   "cell_type": "code",
   "execution_count": null,
   "id": "15cc6468-d152-4f20-b042-e5efe6480076",
   "metadata": {},
   "outputs": [],
   "source": [
    "#5. How can you prevent a recursive function from running indefinitely, causing a stack overflow error?\n",
    "#AS:-To Stop a recursive function to causing a stack overflow error we Need to give a base condition in it"
   ]
  },
  {
   "cell_type": "code",
   "execution_count": null,
   "id": "73fda275-a250-4867-a3b5-9fa3b6480388",
   "metadata": {},
   "outputs": [],
   "source": [
    "#6. Create a recursive Python function to find the greatest common divisor (GCD) of two numbers using the Euclidean algorithm\n",
    "def gcd(a,b):\n",
    "    if b == 0:\n",
    "        return a\n",
    "    return gcd(b,a%b)\n",
    "gcd(12,36)"
   ]
  },
  {
   "cell_type": "code",
   "execution_count": null,
   "id": "470ff01e-bda3-411c-8c4b-f2b720485a54",
   "metadata": {},
   "outputs": [],
   "source": [
    "#7. Write a recursive Python function to reverse a string.\n",
    "def re_str(string):\n",
    "    if  len(string)==1:\n",
    "        return string\n",
    "    return re_str(string[1:])+string[0]\n",
    "re_str(\"najish\")"
   ]
  },
  {
   "cell_type": "code",
   "execution_count": null,
   "id": "ace4db54-6b40-4643-9834-cb6e1741b157",
   "metadata": {},
   "outputs": [],
   "source": [
    "#8. Create a recursive Python function to calculate the power of a number (x^n) \n",
    "def calculate(x,n):\n",
    "    if n == 0:\n",
    "        return 1\n",
    "    return x*calculate(x,n-1)\n",
    "calculate(2,10)"
   ]
  },
  {
   "cell_type": "code",
   "execution_count": null,
   "id": "2b47fb62-0ab6-4f12-9470-4ae577a9bf13",
   "metadata": {},
   "outputs": [],
   "source": [
    "#9. Write a recursive Python function to find all permutations of a given string.\n",
    "def Prementetions(char_arr,left,right):\n",
    "    if left == right:\n",
    "        print(\"\".join(char_arr))\n",
    "        return\n",
    "    else:\n",
    "        for i in range(left,right+1):\n",
    "            char_arr[left],char_arr[i] = char_arr[i],char_arr[left]\n",
    "            Prementetions(char_arr,left+1,right)\n",
    "            char_arr[left],char_arr[i] = char_arr[i],char_arr[left]\n",
    "Prementetions(list(\"ABCD\"),0,3)"
   ]
  },
  {
   "cell_type": "code",
   "execution_count": null,
   "id": "5920870e-e978-44b3-80bd-d0495c6eb477",
   "metadata": {},
   "outputs": [],
   "source": [
    "#10. Write a recursive Python function to check if a string is a palindrome\n",
    "def is_paili(string):\n",
    "    if len(string)<=1:\n",
    "        return True\n",
    "    elif string[0] !=string[-1]:\n",
    "        return False\n",
    "    else:\n",
    "        return is_paili(string[1:-1])\n",
    "is_paili(\"racecar\")"
   ]
  },
  {
   "cell_type": "code",
   "execution_count": null,
   "id": "afe98bba-73f8-4682-a3db-09e831aa226b",
   "metadata": {},
   "outputs": [],
   "source": [
    "#11. Create a recursive Python function to generate all possible combinations of a list of elements.\n",
    "def permention(arr,left,right):\n",
    "    if left==right:\n",
    "        print(arr)\n",
    "        return\n",
    "    else:\n",
    "        for i in range(left,right+1):\n",
    "            arr[left],arr[i] = arr[i],arr[left]\n",
    "            permention(arr,left+1,right)\n",
    "            arr[left],arr[i] = arr[i],arr[left]\n",
    "permention([1,2,3],0,2)"
   ]
  },
  {
   "cell_type": "code",
   "execution_count": null,
   "id": "22c903aa-5fcc-440e-be09-406261558e28",
   "metadata": {},
   "outputs": [],
   "source": [
    "#1. What is a function in Python, and why is it used?\n",
    "#AS:-Functions in Python. You use functions in programming to bundle a set of instructions that you want to use repeatedly or that\n",
    "#because of their complexity, are better self-contained in a sub-program and called when needed.\n",
    "#That means that a function is a piece of code written to carry out a specified task."
   ]
  },
  {
   "cell_type": "markdown",
   "id": "08f22f98-2116-4656-b122-9ac84f76af29",
   "metadata": {
    "jp-MarkdownHeadingCollapsed": true,
    "tags": []
   },
   "source": [
    "## Basics of Functions:"
   ]
  },
  {
   "cell_type": "code",
   "execution_count": null,
   "id": "d63c27ce-983d-496a-a414-2b32e49a6fcc",
   "metadata": {},
   "outputs": [],
   "source": [
    "#2. How do you define a function in Python? Provide an example.\n",
    "#to define a function in python we use keyord call as def\n",
    "#EXAMPLE:-\n",
    "def pri():\n",
    "    print(\"Hello World\")\n",
    "pri()"
   ]
  },
  {
   "cell_type": "code",
   "execution_count": null,
   "id": "3cf320ef-6244-425c-849f-8c3005f6ccf3",
   "metadata": {},
   "outputs": [],
   "source": [
    "#3. Explain the difference between a function definition and a function call.\n",
    "#AS:---function is a block of code that performs a specific task, while a function call is an expression that invokes a function and executes the code in the function."
   ]
  },
  {
   "cell_type": "code",
   "execution_count": null,
   "id": "6591a918-39a6-49fb-bf76-dc609a13e78d",
   "metadata": {},
   "outputs": [],
   "source": [
    "#4. Write a Python program that defines a function to calculate the sum of two numbers and then calls the function\n",
    "def sum1(a,b):\n",
    "    return a+b\n",
    "sum1(3,6)"
   ]
  },
  {
   "cell_type": "code",
   "execution_count": null,
   "id": "6c872688-7b73-4655-9ec5-29d486210c6a",
   "metadata": {},
   "outputs": [],
   "source": [
    "#5. What is a function signature, and what information does it typically include?\n",
    "#AS:-A function signature consists of the function prototype. It specifies the general information about a function like the name, scope and parameters."
   ]
  },
  {
   "cell_type": "code",
   "execution_count": null,
   "id": "aea9ba94-4fe9-4412-9bb3-9b59119135ab",
   "metadata": {},
   "outputs": [],
   "source": [
    "#6. Create a Python function that takes two arguments and returns their product.\n",
    "def product(m,n):\n",
    "    return m*n\n",
    "product(22,2)"
   ]
  },
  {
   "cell_type": "markdown",
   "id": "e19a30aa-afba-4d9b-95a4-d29d3e829181",
   "metadata": {
    "jp-MarkdownHeadingCollapsed": true,
    "tags": []
   },
   "source": [
    "## Function Parameters and Arguments:\n"
   ]
  },
  {
   "cell_type": "code",
   "execution_count": null,
   "id": "417be5f2-2372-4073-b509-8c5c1806c14c",
   "metadata": {},
   "outputs": [],
   "source": [
    "# 1.Explain the concepts of formal parameters and actual arguments in Python functions.\n",
    "#Formal parameters are the names or placeholders that are used to define a function. They represent the information that the function expects to receive from the outside. For example, in the following code, n is a formal parameter:\n",
    "#The actual arguments are assigned to the formal parameters inside the function, so that the function can use them. For example, when factorial(5) is called, the value 5 is assigned to the formal parameter n, and the function can use n to calculate the factorial.\n",
    "def Factoral(n):\n",
    "    pass"
   ]
  },
  {
   "cell_type": "code",
   "execution_count": null,
   "id": "d52ed855-0adf-4dfd-951c-bf76810b8307",
   "metadata": {},
   "outputs": [],
   "source": [
    "#2. Write a Python program that defines a function with default argument values.\n",
    "def greet(name=\"World\",age=None):\n",
    "    print(f\"Hello, {name}!\")\n",
    "    print(age)\n",
    "\n",
    "# Call the function with the default argument value.\n",
    "greet()\n",
    "\n",
    "# Call the function with a different argument value.\n",
    "greet(\"Alice\")"
   ]
  },
  {
   "cell_type": "code",
   "execution_count": null,
   "id": "d52a0f85-0096-4813-892a-d676f377c4d8",
   "metadata": {},
   "outputs": [],
   "source": [
    "#3. How do you use keyword arguments in Python function calls? Provide an example.\n",
    "#Keyword arguments in Python function calls allow you to explicitly name the arguments you are passing to the function. This can be helpful for readability and documentation, and it can also help to prevent errors.\n",
    "#To use keyword arguments, simply pass the argument name followed by an equals sign and the value of the argument. For example, the following function call uses keyword arguments to pass the values name and age to the greet() function:\n",
    "greet(name=\"Alice\", age=25)\n",
    "greet(age=25, name=\"Alice\")"
   ]
  },
  {
   "cell_type": "code",
   "execution_count": null,
   "id": "c71e4215-59e9-406d-bdda-993c7f1db61e",
   "metadata": {},
   "outputs": [],
   "source": [
    "#4. Create a Python function that accepts a variable number of arguments and calculates their sum.\n",
    "def sum_all(*args):\n",
    "    s=0\n",
    "    for i in args:\n",
    "        s=s+i\n",
    "    print(s)\n",
    "sum_all(23,32,23,3232,33,213,2,323,2,32,3,2)"
   ]
  },
  {
   "cell_type": "code",
   "execution_count": null,
   "id": "84792111-aa1d-4960-9421-2f7e6e1bbfb0",
   "metadata": {},
   "outputs": [],
   "source": [
    "#.5 What is the purpose of the `*args` and `**kwargs` syntax in function parameter lists?\n",
    "#We use *args and **kwargs as an argument when we are unsure about the number of arguments to pass in the functions."
   ]
  },
  {
   "cell_type": "markdown",
   "id": "4bb5dd0d-38ad-4eb6-b358-812151d39be3",
   "metadata": {
    "jp-MarkdownHeadingCollapsed": true,
    "tags": []
   },
   "source": [
    "## Return Values and Scoping:"
   ]
  },
  {
   "cell_type": "code",
   "execution_count": null,
   "id": "79223826-5357-48fd-9015-93edd6113733",
   "metadata": {},
   "outputs": [],
   "source": [
    "#1. Describe the role of the `return` statement in Python functions and provide examples.\n",
    "#The Python return statement is a key component of functions and methods. You can use the return statement to make your functions send Python objects back to the caller code. These objects are known as the function's return value.\n",
    "def example(a =\" WORLD\"):\n",
    "    r = [\"Helllo\",a]\n",
    "    return r\n",
    "example()"
   ]
  },
  {
   "cell_type": "code",
   "execution_count": null,
   "id": "dc8ac40b-eeaf-461a-877c-f20b5abdcbd8",
   "metadata": {},
   "outputs": [],
   "source": [
    "#2. Explain the concept of variable scope in Python, including local and global variable\n",
    "#AS:-Python Global variables are those which are not defined inside any function and have a global scope whereas Python local variables are those which are defined inside a function and their scope is limited to that function only\n"
   ]
  },
  {
   "cell_type": "code",
   "execution_count": null,
   "id": "6de30d8e-8579-49a9-b506-637315b7ee02",
   "metadata": {},
   "outputs": [],
   "source": [
    "#3. Write a Python program that demonstrates the use of global variables within functions.\n",
    "global_variable=0\n",
    "def print_gloabel_variable():\n",
    "    print(global_variable)\n",
    "def incerment_gloabal_variable():\n",
    "    global global_variable\n",
    "    global_variable+=1\n",
    "print_gloabel_variable()\n",
    "incerment_gloabal_variable()\n",
    "print_gloabel_variable()"
   ]
  },
  {
   "cell_type": "code",
   "execution_count": null,
   "id": "8c80b676-8ab2-4d97-b50f-9b7914811be5",
   "metadata": {},
   "outputs": [],
   "source": [
    "#4. Create a Python function that calculates the factorial of a number and returns it.\n",
    "def fact(n):\n",
    "    if n==1 or n==0:\n",
    "        return 1\n",
    "    return n*fact(n-1)\n",
    "fact(5)"
   ]
  },
  {
   "cell_type": "code",
   "execution_count": null,
   "id": "6251b0c0-fcbf-422d-87cb-591a370475ef",
   "metadata": {},
   "outputs": [],
   "source": [
    "#5. How can you access variables defined outside a function from within the function?\n",
    "#You can access such variables inside and outside of a function, as they have global scope.or using gloable keyword\n",
    "glob_var = 10\n",
    "def vari():\n",
    "    global glob_var\n",
    "    print(glob_var)\n",
    "vari() \n",
    "glob_var"
   ]
  },
  {
   "cell_type": "markdown",
   "id": "db0e168a-e3a2-4e1c-b63e-5cd6e20f44b9",
   "metadata": {
    "jp-MarkdownHeadingCollapsed": true,
    "tags": []
   },
   "source": [
    "## Lambda Functions and Higher-Order Functions:"
   ]
  },
  {
   "cell_type": "code",
   "execution_count": null,
   "id": "e6558a67-673e-4446-83e8-3aae693d52e4",
   "metadata": {},
   "outputs": [],
   "source": [
    "#1. What are lambda functions in Python, and when are they typically used?\n",
    "#Lambda functions are small, anonymous functions that can be defined without using the def keyword. They are often used for simple operations and are typically defined using the lambda keyword\n",
    "numbers = [1, 2, 3, 4, 5]\n",
    "doubled_numbers = map(lambda x: x * 2, numbers)\n",
    "list(doubled_numbers)\n",
    "[2, 4, 6, 8, 10]"
   ]
  },
  {
   "cell_type": "code",
   "execution_count": null,
   "id": "b46fe24b-2779-495b-a7fe-8358e451aeaf",
   "metadata": {},
   "outputs": [],
   "source": [
    "#2. Write a Python program that uses lambda functions to sort a list of tuples based on the second element.\n",
    "list_of_tuple = [(\"item\",15),(\"item1\",5),(\"item\",10)]\n",
    "sort_by_scond = lambda x:x[1]\n",
    "s = sorted(list_of_tuple,key=sort_by_scond)\n",
    "print(s)"
   ]
  },
  {
   "cell_type": "code",
   "execution_count": null,
   "id": "e5ee00f0-b10f-46c7-b1d5-12bedad647d1",
   "metadata": {},
   "outputs": [],
   "source": [
    "#3. Explain the concept of higher-order functions in Python, and provide an example\n",
    "#AS:A higher-order function is a function that either takes a function as a parameter or returns a function as its output. Higher-order functions are a powerful tool in Python that can be used to write more concise, flexible, and reusable code.\n",
    "def apply_to_each(f,l):\n",
    "    for i in range(len(l)):\n",
    "        l[i] = f(l[i])\n",
    "    return l\n",
    "def square(x):\n",
    "    return x*x\n",
    "l = [1,2,3,4,5]\n",
    "apply_to_each(square,l)\n",
    "print(l)"
   ]
  },
  {
   "cell_type": "code",
   "execution_count": null,
   "id": "bfa4ddab-a74a-4767-a012-66ad547ee449",
   "metadata": {},
   "outputs": [],
   "source": [
    "#4. Create a Python function that takes a list of numbers and a function as arguments, applying the function to each element in the list.\n",
    "def apply_function_to_all(numbers,func):\n",
    "    res = []\n",
    "    for n in numbers:\n",
    "        res.append(func(n))\n",
    "    return res\n",
    "def square(x):\n",
    "    return x*x\n",
    "numbers = [1,2,3,4,5]\n",
    "a = apply_function_to_all(numbers,square)\n",
    "print(a)"
   ]
  },
  {
   "cell_type": "markdown",
   "id": "81b31d08-00f4-446a-ac1a-d7042f923c87",
   "metadata": {},
   "source": [
    "## Built-in Functions:"
   ]
  },
  {
   "cell_type": "code",
   "execution_count": 23,
   "id": "15e29d7f-cf7f-4849-992d-98bb680ea0d9",
   "metadata": {},
   "outputs": [],
   "source": [
    "#1. Describe the role of built-in functions like `len()`, `max()`, and `min()` in Python\n",
    "#len():-the len built function  is that it give us lenght of item or list\n",
    "#max():- the max buitl function is give us max value in list and other data types\n",
    "#min():- the min function give us minmium value in list and other data types\n"
   ]
  },
  {
   "cell_type": "code",
   "execution_count": 26,
   "id": "bdc3c6b3-3bae-4da8-b726-68f4c7149a6d",
   "metadata": {},
   "outputs": [
    {
     "name": "stdout",
     "output_type": "stream",
     "text": [
      "[362880, 40320, 5040, 720, 120, 24, 6, 2]\n"
     ]
    }
   ],
   "source": [
    "#2. Write a Python program that uses the `map()` function to apply a function to each element of a list.\n",
    "#the map function use when we want to apply some fucntion on list or may be tuples\n",
    "def fact(n):\n",
    "    if n==1 or n==0:\n",
    "        return 1\n",
    "    return n*fact(n-1)\n",
    "list = [9,8,7,6,5,4,3,2]\n",
    "us = map(fact,list)\n",
    "ls = []\n",
    "for i in us:\n",
    "    ls.append(i)\n",
    "print(ls)"
   ]
  },
  {
   "cell_type": "code",
   "execution_count": null,
   "id": "d20f447a-b969-4093-a8fc-489d96ca902a",
   "metadata": {},
   "outputs": [],
   "source": [
    "#3. How does the `filter()` function work in Python, and when would you use it?\n",
    "#   used to filter elements from an iterable.\n",
    "#AS:- `filter()` function furnishes an iterator that holds the elements that passed through the filter.\n",
    "def is_Even(x):\n",
    "    if x%2==0:\n",
    "        return True\n",
    "    return False\n",
    "lis = [2,3,4,5,6,7,7,8,9]\n",
    "x = filter(is_Even,lis)\n",
    "l = []\n",
    "for i in x:\n",
    "    l.append(i)\n",
    "print(l)"
   ]
  },
  {
   "cell_type": "code",
   "execution_count": null,
   "id": "97fb2e12-e904-4e8e-bc6f-2332b327a71f",
   "metadata": {},
   "outputs": [],
   "source": [
    "#4. Create a Python program that uses the `reduce()` function to find the product of all elements in a list\n",
    "from functools import reduce\n",
    "def mul(x,y):\n",
    "    return x*y\n",
    "re = reduce(mul,[1,2,3,4,6,7,8])\n",
    "print(re)"
   ]
  },
  {
   "cell_type": "markdown",
   "id": "605e105e-486e-4094-8698-dd48a3645063",
   "metadata": {},
   "source": [
    "## Function Documentation and Best Practices:\n"
   ]
  },
  {
   "cell_type": "code",
   "execution_count": 40,
   "id": "77c37021-8262-4ea5-b111-4b573a2c1185",
   "metadata": {},
   "outputs": [],
   "source": [
    "#1. Explain the purpose of docstrings in Python functions and how to write them\n",
    "#AS:-A Python docstring is a string used to document a Python module, class, function or method, so programmers can understand \n",
    "#what it does without having to read the details of the implementation\n"
   ]
  },
  {
   "cell_type": "code",
   "execution_count": null,
   "id": "691b7fe9-f896-4227-873e-1955c26b0a1b",
   "metadata": {},
   "outputs": [],
   "source": [
    "#describe some best practrice for naming function and variables in python in culuding naming and conversention  and guidlines"
   ]
  }
 ],
 "metadata": {
  "kernelspec": {
   "display_name": "Python 3 (ipykernel)",
   "language": "python",
   "name": "python3"
  },
  "language_info": {
   "codemirror_mode": {
    "name": "ipython",
    "version": 3
   },
   "file_extension": ".py",
   "mimetype": "text/x-python",
   "name": "python",
   "nbconvert_exporter": "python",
   "pygments_lexer": "ipython3",
   "version": "3.10.8"
  }
 },
 "nbformat": 4,
 "nbformat_minor": 5
}
